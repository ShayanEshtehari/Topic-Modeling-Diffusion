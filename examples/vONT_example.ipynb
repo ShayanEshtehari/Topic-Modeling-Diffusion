{
 "cells": [
  {
   "cell_type": "code",
   "execution_count": 1,
   "metadata": {},
   "outputs": [
    {
     "name": "stderr",
     "output_type": "stream",
     "text": [
      "/Users/weijiexu/miniconda3/lib/python3.10/site-packages/tqdm/auto.py:21: TqdmWarning: IProgress not found. Please update jupyter and ipywidgets. See https://ipywidgets.readthedocs.io/en/stable/user_install.html\n",
      "  from .autonotebook import tqdm as notebook_tqdm\n"
     ]
    }
   ],
   "source": [
    "\n",
    "import sys\n",
    "sys.path.insert(0, '../src/topicmodeling')\n",
    "from model import TopicModel\n",
    "from datasets import load_dataset\n",
    "from octis.evaluation_metrics.diversity_metrics import TopicDiversity\n",
    "from octis.evaluation_metrics.coherence_metrics import Coherence\n",
    "\n",
    "\n",
    "df = load_dataset('xwjzds/ag_news')\n",
    "tm = TopicModel(numb_embeddings = 10)\n",
    "\n",
    "model_output = tm.train_model(df['train']['text'])\n",
    "tm = TopicModel(numb_embeddings = 10, epochs=20, batch_size=256, gpu_num=1, numb_embeddings=20, \n",
    "                 learning_rate=0.002, weight_decay=1.2e-6, penalty=1, beta = 1, temp = 10,\n",
    "                 top_n_words=20, num_representative_docs=5, top_n_topics=100, embedding_dim=100)\n",
    "\n",
    "model_output = tm.train_model(df['train']['text'])\n",
    "\n"
   ]
  },
  {
   "cell_type": "code",
   "execution_count": 16,
   "metadata": {},
   "outputs": [
    {
     "data": {
      "text/plain": [
       "{'topics': [['bush',\n",
       "   'election',\n",
       "   'afp',\n",
       "   'minister',\n",
       "   'china',\n",
       "   'kerry',\n",
       "   'country',\n",
       "   'john',\n",
       "   'leader',\n",
       "   'presidential'],\n",
       "  ['iraqi',\n",
       "   'palestinian',\n",
       "   'minister',\n",
       "   'attack',\n",
       "   'baghdad',\n",
       "   'people',\n",
       "   'israeli',\n",
       "   'official',\n",
       "   'leader',\n",
       "   'force'],\n",
       "  ['microsoft',\n",
       "   'fullquote',\n",
       "   'com',\n",
       "   'software',\n",
       "   'service',\n",
       "   'search',\n",
       "   'internet',\n",
       "   'http',\n",
       "   'target',\n",
       "   'www'],\n",
       "  ['music',\n",
       "   'apple',\n",
       "   'drug',\n",
       "   'ipod',\n",
       "   'player',\n",
       "   'sony',\n",
       "   'group',\n",
       "   'computer',\n",
       "   'online',\n",
       "   'digital'],\n",
       "  ['space',\n",
       "   'nuclear',\n",
       "   'iran',\n",
       "   'nasa',\n",
       "   'scientist',\n",
       "   'may',\n",
       "   'could',\n",
       "   'launch',\n",
       "   'agency',\n",
       "   'study'],\n",
       "  ['charge',\n",
       "   'court',\n",
       "   'former',\n",
       "   'case',\n",
       "   'federal',\n",
       "   'washington',\n",
       "   'trial',\n",
       "   'player',\n",
       "   'security',\n",
       "   'drug'],\n",
       "  ['billion',\n",
       "   'group',\n",
       "   'deal',\n",
       "   'corp',\n",
       "   'bid',\n",
       "   'cut',\n",
       "   'peoplesoft',\n",
       "   'oracle',\n",
       "   'bank',\n",
       "   'airline'],\n",
       "  ['rise',\n",
       "   'profit',\n",
       "   'percent',\n",
       "   'quarter',\n",
       "   'sale',\n",
       "   'low',\n",
       "   'dollar',\n",
       "   'share',\n",
       "   'third',\n",
       "   'rate'],\n",
       "  ['intel',\n",
       "   'phone',\n",
       "   'chip',\n",
       "   'computer',\n",
       "   'ibm',\n",
       "   'technology',\n",
       "   'business',\n",
       "   'market',\n",
       "   'use',\n",
       "   'group'],\n",
       "  ['team',\n",
       "   'season',\n",
       "   'night',\n",
       "   'victory',\n",
       "   'cup',\n",
       "   'coach',\n",
       "   'league',\n",
       "   'sunday',\n",
       "   'second',\n",
       "   'champion']],\n",
       " 'topic-word-matrix': array([[5.0529972e-05, 1.1202033e-10, 2.5174479e-06, ..., 2.5164207e-05,\n",
       "         1.5668443e-04, 1.1982106e-06],\n",
       "        [2.7240003e-05, 5.8854505e-10, 4.4322772e-07, ..., 8.9555731e-05,\n",
       "         6.5802474e-04, 4.4450630e-08],\n",
       "        [2.3383429e-06, 3.4813010e-04, 4.0631710e-07, ..., 4.6815921e-06,\n",
       "         8.1584672e-05, 9.8010056e-10],\n",
       "        ...,\n",
       "        [2.0174696e-08, 5.3136064e-06, 2.5388566e-10, ..., 1.4372100e-07,\n",
       "         3.2934509e-05, 6.4864662e-07],\n",
       "        [4.3541517e-09, 1.4071980e-04, 4.6077377e-09, ..., 1.6649994e-05,\n",
       "         6.8584459e-06, 1.3289530e-06],\n",
       "        [5.6854166e-10, 8.7713525e-09, 1.7534043e-05, ..., 2.3986395e-06,\n",
       "         5.4594580e-06, 4.8501839e-05]], dtype=float32),\n",
       " 'topic-document-matrix': array([[0.08100015, 0.08668289, 0.08658498, ..., 0.14137311, 0.08024379,\n",
       "         0.08561745],\n",
       "        [0.07438239, 0.06811347, 0.08085214, ..., 0.08315027, 0.07945295,\n",
       "         0.0828714 ],\n",
       "        [0.07521816, 0.07132022, 0.08318625, ..., 0.0776543 , 0.08345068,\n",
       "         0.08249605],\n",
       "        ...,\n",
       "        [0.21499144, 0.07065383, 0.2411987 , ..., 0.07413591, 0.08289934,\n",
       "         0.08286176],\n",
       "        [0.10203536, 0.12936886, 0.08689459, ..., 0.08178402, 0.08869938,\n",
       "         0.08541396],\n",
       "        [0.08077717, 0.06908939, 0.08283646, ..., 0.20943515, 0.24056005,\n",
       "         0.24139562]], dtype=float32)}"
      ]
     },
     "execution_count": 16,
     "metadata": {},
     "output_type": "execute_result"
    }
   ],
   "source": [
    "model_output"
   ]
  },
  {
   "cell_type": "code",
   "execution_count": 15,
   "metadata": {},
   "outputs": [
    {
     "ename": "Exception",
     "evalue": "Words in topics are less than 19",
     "output_type": "error",
     "traceback": [
      "\u001b[0;31m---------------------------------------------------------------------------\u001b[0m",
      "\u001b[0;31mException\u001b[0m                                 Traceback (most recent call last)",
      "Cell \u001b[0;32mIn[15], line 4\u001b[0m\n\u001b[1;32m      2\u001b[0m \u001b[39mfrom\u001b[39;00m \u001b[39moctis\u001b[39;00m\u001b[39m.\u001b[39;00m\u001b[39mevaluation_metrics\u001b[39;00m\u001b[39m.\u001b[39;00m\u001b[39mcoherence_metrics\u001b[39;00m \u001b[39mimport\u001b[39;00m Coherence\n\u001b[1;32m      3\u001b[0m metric \u001b[39m=\u001b[39m TopicDiversity(topk\u001b[39m=\u001b[39m\u001b[39m19\u001b[39m)\n\u001b[0;32m----> 4\u001b[0m topic_diversity_score \u001b[39m=\u001b[39m metric\u001b[39m.\u001b[39;49mscore(model_output) \u001b[39m# Compute score of the metric\u001b[39;00m\n",
      "File \u001b[0;32m~/miniconda3/lib/python3.10/site-packages/octis/evaluation_metrics/diversity_metrics.py:47\u001b[0m, in \u001b[0;36mTopicDiversity.score\u001b[0;34m(self, model_output)\u001b[0m\n\u001b[1;32m     45\u001b[0m     \u001b[39mreturn\u001b[39;00m \u001b[39m0\u001b[39m\n\u001b[1;32m     46\u001b[0m \u001b[39mif\u001b[39;00m \u001b[39mself\u001b[39m\u001b[39m.\u001b[39mtopk \u001b[39m>\u001b[39m \u001b[39mlen\u001b[39m(topics[\u001b[39m0\u001b[39m]):\n\u001b[0;32m---> 47\u001b[0m     \u001b[39mraise\u001b[39;00m \u001b[39mException\u001b[39;00m(\u001b[39m'\u001b[39m\u001b[39mWords in topics are less than \u001b[39m\u001b[39m'\u001b[39m \u001b[39m+\u001b[39m \u001b[39mstr\u001b[39m(\u001b[39mself\u001b[39m\u001b[39m.\u001b[39mtopk))\n\u001b[1;32m     48\u001b[0m \u001b[39melse\u001b[39;00m:\n\u001b[1;32m     49\u001b[0m     unique_words \u001b[39m=\u001b[39m \u001b[39mset\u001b[39m()\n",
      "\u001b[0;31mException\u001b[0m: Words in topics are less than 19"
     ]
    }
   ],
   "source": [
    "from octis.evaluation_metrics.diversity_metrics import TopicDiversity\n",
    "from octis.evaluation_metrics.coherence_metrics import Coherence\n",
    "metric = TopicDiversity(topk=19)\n",
    "topic_diversity_score = metric.score(model_output) # Compute score of the metric"
   ]
  },
  {
   "cell_type": "code",
   "execution_count": 10,
   "metadata": {},
   "outputs": [],
   "source": [
    "cmetric = Coherence(texts =  tm.tp.lemmas,  measure='c_npmi')\n",
    "topic_diversity_score = metric.score(model_output) # Compute score of the metri"
   ]
  },
  {
   "cell_type": "code",
   "execution_count": 11,
   "metadata": {},
   "outputs": [
    {
     "data": {
      "text/plain": [
       "0.10958606182477335"
      ]
     },
     "execution_count": 11,
     "metadata": {},
     "output_type": "execute_result"
    }
   ],
   "source": [
    "topic_diversity_score"
   ]
  },
  {
   "cell_type": "code",
   "execution_count": 12,
   "metadata": {},
   "outputs": [],
   "source": [
    "metric = Coherence(texts =  tm.tp.lemmas,  measure='c_v')\n",
    "topic_diversity_score = metric.score(model_output) # Compute score of the metri"
   ]
  },
  {
   "cell_type": "code",
   "execution_count": 13,
   "metadata": {},
   "outputs": [
    {
     "data": {
      "text/plain": [
       "0.6116887794085797"
      ]
     },
     "execution_count": 13,
     "metadata": {},
     "output_type": "execute_result"
    }
   ],
   "source": [
    "topic_diversity_score"
   ]
  },
  {
   "cell_type": "code",
   "execution_count": null,
   "metadata": {},
   "outputs": [],
   "source": []
  }
 ],
 "metadata": {
  "kernelspec": {
   "display_name": "Python 3",
   "language": "python",
   "name": "python3"
  },
  "language_info": {
   "codemirror_mode": {
    "name": "ipython",
    "version": 3
   },
   "file_extension": ".py",
   "mimetype": "text/x-python",
   "name": "python",
   "nbconvert_exporter": "python",
   "pygments_lexer": "ipython3",
   "version": "3.10.10"
  },
  "orig_nbformat": 4
 },
 "nbformat": 4,
 "nbformat_minor": 2
}
